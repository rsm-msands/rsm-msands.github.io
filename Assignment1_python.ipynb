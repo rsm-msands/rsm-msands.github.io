{
 "cells": [
  {
   "cell_type": "code",
   "execution_count": 1,
   "metadata": {},
   "outputs": [],
   "source": [
    "import pandas as pd \n",
    "import numpy as np "
   ]
  },
  {
   "cell_type": "code",
   "execution_count": 3,
   "metadata": {},
   "outputs": [],
   "source": [
    "karlan_df = pd.read_stata('data/karlan_list_2007.dta')"
   ]
  },
  {
   "cell_type": "code",
   "execution_count": 4,
   "metadata": {},
   "outputs": [
    {
     "data": {
      "text/html": [
       "<div>\n",
       "<style scoped>\n",
       "    .dataframe tbody tr th:only-of-type {\n",
       "        vertical-align: middle;\n",
       "    }\n",
       "\n",
       "    .dataframe tbody tr th {\n",
       "        vertical-align: top;\n",
       "    }\n",
       "\n",
       "    .dataframe thead th {\n",
       "        text-align: right;\n",
       "    }\n",
       "</style>\n",
       "<table border=\"1\" class=\"dataframe\">\n",
       "  <thead>\n",
       "    <tr style=\"text-align: right;\">\n",
       "      <th></th>\n",
       "      <th>treatment</th>\n",
       "      <th>control</th>\n",
       "      <th>ratio</th>\n",
       "      <th>ratio2</th>\n",
       "      <th>ratio3</th>\n",
       "      <th>size</th>\n",
       "      <th>size25</th>\n",
       "      <th>size50</th>\n",
       "      <th>size100</th>\n",
       "      <th>sizeno</th>\n",
       "      <th>...</th>\n",
       "      <th>redcty</th>\n",
       "      <th>bluecty</th>\n",
       "      <th>pwhite</th>\n",
       "      <th>pblack</th>\n",
       "      <th>page18_39</th>\n",
       "      <th>ave_hh_sz</th>\n",
       "      <th>median_hhincome</th>\n",
       "      <th>powner</th>\n",
       "      <th>psch_atlstba</th>\n",
       "      <th>pop_propurban</th>\n",
       "    </tr>\n",
       "  </thead>\n",
       "  <tbody>\n",
       "    <tr>\n",
       "      <th>0</th>\n",
       "      <td>0</td>\n",
       "      <td>1</td>\n",
       "      <td>Control</td>\n",
       "      <td>0</td>\n",
       "      <td>0</td>\n",
       "      <td>Control</td>\n",
       "      <td>0</td>\n",
       "      <td>0</td>\n",
       "      <td>0</td>\n",
       "      <td>0</td>\n",
       "      <td>...</td>\n",
       "      <td>0.0</td>\n",
       "      <td>1.0</td>\n",
       "      <td>0.446493</td>\n",
       "      <td>0.527769</td>\n",
       "      <td>0.317591</td>\n",
       "      <td>2.10</td>\n",
       "      <td>28517.0</td>\n",
       "      <td>0.499807</td>\n",
       "      <td>0.324528</td>\n",
       "      <td>1.0</td>\n",
       "    </tr>\n",
       "    <tr>\n",
       "      <th>1</th>\n",
       "      <td>0</td>\n",
       "      <td>1</td>\n",
       "      <td>Control</td>\n",
       "      <td>0</td>\n",
       "      <td>0</td>\n",
       "      <td>Control</td>\n",
       "      <td>0</td>\n",
       "      <td>0</td>\n",
       "      <td>0</td>\n",
       "      <td>0</td>\n",
       "      <td>...</td>\n",
       "      <td>1.0</td>\n",
       "      <td>0.0</td>\n",
       "      <td>NaN</td>\n",
       "      <td>NaN</td>\n",
       "      <td>NaN</td>\n",
       "      <td>NaN</td>\n",
       "      <td>NaN</td>\n",
       "      <td>NaN</td>\n",
       "      <td>NaN</td>\n",
       "      <td>NaN</td>\n",
       "    </tr>\n",
       "    <tr>\n",
       "      <th>2</th>\n",
       "      <td>1</td>\n",
       "      <td>0</td>\n",
       "      <td>1</td>\n",
       "      <td>0</td>\n",
       "      <td>0</td>\n",
       "      <td>$100,000</td>\n",
       "      <td>0</td>\n",
       "      <td>0</td>\n",
       "      <td>1</td>\n",
       "      <td>0</td>\n",
       "      <td>...</td>\n",
       "      <td>0.0</td>\n",
       "      <td>1.0</td>\n",
       "      <td>0.935706</td>\n",
       "      <td>0.011948</td>\n",
       "      <td>0.276128</td>\n",
       "      <td>2.48</td>\n",
       "      <td>51175.0</td>\n",
       "      <td>0.721941</td>\n",
       "      <td>0.192668</td>\n",
       "      <td>1.0</td>\n",
       "    </tr>\n",
       "    <tr>\n",
       "      <th>3</th>\n",
       "      <td>1</td>\n",
       "      <td>0</td>\n",
       "      <td>1</td>\n",
       "      <td>0</td>\n",
       "      <td>0</td>\n",
       "      <td>Unstated</td>\n",
       "      <td>0</td>\n",
       "      <td>0</td>\n",
       "      <td>0</td>\n",
       "      <td>1</td>\n",
       "      <td>...</td>\n",
       "      <td>1.0</td>\n",
       "      <td>0.0</td>\n",
       "      <td>0.888331</td>\n",
       "      <td>0.010760</td>\n",
       "      <td>0.279412</td>\n",
       "      <td>2.65</td>\n",
       "      <td>79269.0</td>\n",
       "      <td>0.920431</td>\n",
       "      <td>0.412142</td>\n",
       "      <td>1.0</td>\n",
       "    </tr>\n",
       "    <tr>\n",
       "      <th>4</th>\n",
       "      <td>1</td>\n",
       "      <td>0</td>\n",
       "      <td>1</td>\n",
       "      <td>0</td>\n",
       "      <td>0</td>\n",
       "      <td>$50,000</td>\n",
       "      <td>0</td>\n",
       "      <td>1</td>\n",
       "      <td>0</td>\n",
       "      <td>0</td>\n",
       "      <td>...</td>\n",
       "      <td>0.0</td>\n",
       "      <td>1.0</td>\n",
       "      <td>0.759014</td>\n",
       "      <td>0.127421</td>\n",
       "      <td>0.442389</td>\n",
       "      <td>1.85</td>\n",
       "      <td>40908.0</td>\n",
       "      <td>0.416072</td>\n",
       "      <td>0.439965</td>\n",
       "      <td>1.0</td>\n",
       "    </tr>\n",
       "  </tbody>\n",
       "</table>\n",
       "<p>5 rows × 51 columns</p>\n",
       "</div>"
      ],
      "text/plain": [
       "   treatment  control    ratio  ratio2  ratio3      size  size25  size50  \\\n",
       "0          0        1  Control       0       0   Control       0       0   \n",
       "1          0        1  Control       0       0   Control       0       0   \n",
       "2          1        0        1       0       0  $100,000       0       0   \n",
       "3          1        0        1       0       0  Unstated       0       0   \n",
       "4          1        0        1       0       0   $50,000       0       1   \n",
       "\n",
       "   size100  sizeno  ... redcty  bluecty    pwhite    pblack  page18_39  \\\n",
       "0        0       0  ...    0.0      1.0  0.446493  0.527769   0.317591   \n",
       "1        0       0  ...    1.0      0.0       NaN       NaN        NaN   \n",
       "2        1       0  ...    0.0      1.0  0.935706  0.011948   0.276128   \n",
       "3        0       1  ...    1.0      0.0  0.888331  0.010760   0.279412   \n",
       "4        0       0  ...    0.0      1.0  0.759014  0.127421   0.442389   \n",
       "\n",
       "   ave_hh_sz  median_hhincome    powner  psch_atlstba  pop_propurban  \n",
       "0       2.10          28517.0  0.499807      0.324528            1.0  \n",
       "1        NaN              NaN       NaN           NaN            NaN  \n",
       "2       2.48          51175.0  0.721941      0.192668            1.0  \n",
       "3       2.65          79269.0  0.920431      0.412142            1.0  \n",
       "4       1.85          40908.0  0.416072      0.439965            1.0  \n",
       "\n",
       "[5 rows x 51 columns]"
      ]
     },
     "execution_count": 4,
     "metadata": {},
     "output_type": "execute_result"
    }
   ],
   "source": [
    "karlan_df.head()"
   ]
  },
  {
   "cell_type": "code",
   "execution_count": 5,
   "metadata": {},
   "outputs": [
    {
     "data": {
      "text/html": [
       "<div>\n",
       "<style scoped>\n",
       "    .dataframe tbody tr th:only-of-type {\n",
       "        vertical-align: middle;\n",
       "    }\n",
       "\n",
       "    .dataframe tbody tr th {\n",
       "        vertical-align: top;\n",
       "    }\n",
       "\n",
       "    .dataframe thead th {\n",
       "        text-align: right;\n",
       "    }\n",
       "</style>\n",
       "<table border=\"1\" class=\"dataframe\">\n",
       "  <thead>\n",
       "    <tr style=\"text-align: right;\">\n",
       "      <th></th>\n",
       "      <th>treatment</th>\n",
       "      <th>control</th>\n",
       "      <th>ratio2</th>\n",
       "      <th>ratio3</th>\n",
       "      <th>size25</th>\n",
       "      <th>size50</th>\n",
       "      <th>size100</th>\n",
       "      <th>sizeno</th>\n",
       "      <th>askd1</th>\n",
       "      <th>askd2</th>\n",
       "      <th>...</th>\n",
       "      <th>redcty</th>\n",
       "      <th>bluecty</th>\n",
       "      <th>pwhite</th>\n",
       "      <th>pblack</th>\n",
       "      <th>page18_39</th>\n",
       "      <th>ave_hh_sz</th>\n",
       "      <th>median_hhincome</th>\n",
       "      <th>powner</th>\n",
       "      <th>psch_atlstba</th>\n",
       "      <th>pop_propurban</th>\n",
       "    </tr>\n",
       "  </thead>\n",
       "  <tbody>\n",
       "    <tr>\n",
       "      <th>count</th>\n",
       "      <td>50083.000000</td>\n",
       "      <td>50083.000000</td>\n",
       "      <td>50083.000000</td>\n",
       "      <td>50083.000000</td>\n",
       "      <td>50083.000000</td>\n",
       "      <td>50083.000000</td>\n",
       "      <td>50083.000000</td>\n",
       "      <td>50083.000000</td>\n",
       "      <td>50083.000000</td>\n",
       "      <td>50083.000000</td>\n",
       "      <td>...</td>\n",
       "      <td>49978.000000</td>\n",
       "      <td>49978.000000</td>\n",
       "      <td>48217.000000</td>\n",
       "      <td>48047.000000</td>\n",
       "      <td>48217.000000</td>\n",
       "      <td>48221.000000</td>\n",
       "      <td>48209.000000</td>\n",
       "      <td>48214.000000</td>\n",
       "      <td>48215.000000</td>\n",
       "      <td>48217.000000</td>\n",
       "    </tr>\n",
       "    <tr>\n",
       "      <th>mean</th>\n",
       "      <td>0.666813</td>\n",
       "      <td>0.333187</td>\n",
       "      <td>0.222311</td>\n",
       "      <td>0.222211</td>\n",
       "      <td>0.166723</td>\n",
       "      <td>0.166623</td>\n",
       "      <td>0.166723</td>\n",
       "      <td>0.166743</td>\n",
       "      <td>0.222311</td>\n",
       "      <td>0.222291</td>\n",
       "      <td>...</td>\n",
       "      <td>0.510245</td>\n",
       "      <td>0.488715</td>\n",
       "      <td>0.819599</td>\n",
       "      <td>0.086710</td>\n",
       "      <td>0.321694</td>\n",
       "      <td>2.429012</td>\n",
       "      <td>54815.700533</td>\n",
       "      <td>0.669418</td>\n",
       "      <td>0.391661</td>\n",
       "      <td>0.871968</td>\n",
       "    </tr>\n",
       "    <tr>\n",
       "      <th>std</th>\n",
       "      <td>0.471357</td>\n",
       "      <td>0.471357</td>\n",
       "      <td>0.415803</td>\n",
       "      <td>0.415736</td>\n",
       "      <td>0.372732</td>\n",
       "      <td>0.372643</td>\n",
       "      <td>0.372732</td>\n",
       "      <td>0.372750</td>\n",
       "      <td>0.415803</td>\n",
       "      <td>0.415790</td>\n",
       "      <td>...</td>\n",
       "      <td>0.499900</td>\n",
       "      <td>0.499878</td>\n",
       "      <td>0.168561</td>\n",
       "      <td>0.135868</td>\n",
       "      <td>0.103039</td>\n",
       "      <td>0.378115</td>\n",
       "      <td>22027.316665</td>\n",
       "      <td>0.193405</td>\n",
       "      <td>0.186599</td>\n",
       "      <td>0.258654</td>\n",
       "    </tr>\n",
       "    <tr>\n",
       "      <th>min</th>\n",
       "      <td>0.000000</td>\n",
       "      <td>0.000000</td>\n",
       "      <td>0.000000</td>\n",
       "      <td>0.000000</td>\n",
       "      <td>0.000000</td>\n",
       "      <td>0.000000</td>\n",
       "      <td>0.000000</td>\n",
       "      <td>0.000000</td>\n",
       "      <td>0.000000</td>\n",
       "      <td>0.000000</td>\n",
       "      <td>...</td>\n",
       "      <td>0.000000</td>\n",
       "      <td>0.000000</td>\n",
       "      <td>0.009418</td>\n",
       "      <td>0.000000</td>\n",
       "      <td>0.000000</td>\n",
       "      <td>0.000000</td>\n",
       "      <td>5000.000000</td>\n",
       "      <td>0.000000</td>\n",
       "      <td>0.000000</td>\n",
       "      <td>0.000000</td>\n",
       "    </tr>\n",
       "    <tr>\n",
       "      <th>25%</th>\n",
       "      <td>0.000000</td>\n",
       "      <td>0.000000</td>\n",
       "      <td>0.000000</td>\n",
       "      <td>0.000000</td>\n",
       "      <td>0.000000</td>\n",
       "      <td>0.000000</td>\n",
       "      <td>0.000000</td>\n",
       "      <td>0.000000</td>\n",
       "      <td>0.000000</td>\n",
       "      <td>0.000000</td>\n",
       "      <td>...</td>\n",
       "      <td>0.000000</td>\n",
       "      <td>0.000000</td>\n",
       "      <td>0.755845</td>\n",
       "      <td>0.014729</td>\n",
       "      <td>0.258311</td>\n",
       "      <td>2.210000</td>\n",
       "      <td>39181.000000</td>\n",
       "      <td>0.560222</td>\n",
       "      <td>0.235647</td>\n",
       "      <td>0.884929</td>\n",
       "    </tr>\n",
       "    <tr>\n",
       "      <th>50%</th>\n",
       "      <td>1.000000</td>\n",
       "      <td>0.000000</td>\n",
       "      <td>0.000000</td>\n",
       "      <td>0.000000</td>\n",
       "      <td>0.000000</td>\n",
       "      <td>0.000000</td>\n",
       "      <td>0.000000</td>\n",
       "      <td>0.000000</td>\n",
       "      <td>0.000000</td>\n",
       "      <td>0.000000</td>\n",
       "      <td>...</td>\n",
       "      <td>1.000000</td>\n",
       "      <td>0.000000</td>\n",
       "      <td>0.872797</td>\n",
       "      <td>0.036554</td>\n",
       "      <td>0.305534</td>\n",
       "      <td>2.440000</td>\n",
       "      <td>50673.000000</td>\n",
       "      <td>0.712296</td>\n",
       "      <td>0.373744</td>\n",
       "      <td>1.000000</td>\n",
       "    </tr>\n",
       "    <tr>\n",
       "      <th>75%</th>\n",
       "      <td>1.000000</td>\n",
       "      <td>1.000000</td>\n",
       "      <td>0.000000</td>\n",
       "      <td>0.000000</td>\n",
       "      <td>0.000000</td>\n",
       "      <td>0.000000</td>\n",
       "      <td>0.000000</td>\n",
       "      <td>0.000000</td>\n",
       "      <td>0.000000</td>\n",
       "      <td>0.000000</td>\n",
       "      <td>...</td>\n",
       "      <td>1.000000</td>\n",
       "      <td>1.000000</td>\n",
       "      <td>0.938827</td>\n",
       "      <td>0.090882</td>\n",
       "      <td>0.369132</td>\n",
       "      <td>2.660000</td>\n",
       "      <td>66005.000000</td>\n",
       "      <td>0.816798</td>\n",
       "      <td>0.530036</td>\n",
       "      <td>1.000000</td>\n",
       "    </tr>\n",
       "    <tr>\n",
       "      <th>max</th>\n",
       "      <td>1.000000</td>\n",
       "      <td>1.000000</td>\n",
       "      <td>1.000000</td>\n",
       "      <td>1.000000</td>\n",
       "      <td>1.000000</td>\n",
       "      <td>1.000000</td>\n",
       "      <td>1.000000</td>\n",
       "      <td>1.000000</td>\n",
       "      <td>1.000000</td>\n",
       "      <td>1.000000</td>\n",
       "      <td>...</td>\n",
       "      <td>1.000000</td>\n",
       "      <td>1.000000</td>\n",
       "      <td>1.000000</td>\n",
       "      <td>0.989622</td>\n",
       "      <td>0.997544</td>\n",
       "      <td>5.270000</td>\n",
       "      <td>200001.000000</td>\n",
       "      <td>1.000000</td>\n",
       "      <td>1.000000</td>\n",
       "      <td>1.000000</td>\n",
       "    </tr>\n",
       "  </tbody>\n",
       "</table>\n",
       "<p>8 rows × 48 columns</p>\n",
       "</div>"
      ],
      "text/plain": [
       "          treatment       control        ratio2        ratio3        size25  \\\n",
       "count  50083.000000  50083.000000  50083.000000  50083.000000  50083.000000   \n",
       "mean       0.666813      0.333187      0.222311      0.222211      0.166723   \n",
       "std        0.471357      0.471357      0.415803      0.415736      0.372732   \n",
       "min        0.000000      0.000000      0.000000      0.000000      0.000000   \n",
       "25%        0.000000      0.000000      0.000000      0.000000      0.000000   \n",
       "50%        1.000000      0.000000      0.000000      0.000000      0.000000   \n",
       "75%        1.000000      1.000000      0.000000      0.000000      0.000000   \n",
       "max        1.000000      1.000000      1.000000      1.000000      1.000000   \n",
       "\n",
       "             size50       size100        sizeno         askd1         askd2  \\\n",
       "count  50083.000000  50083.000000  50083.000000  50083.000000  50083.000000   \n",
       "mean       0.166623      0.166723      0.166743      0.222311      0.222291   \n",
       "std        0.372643      0.372732      0.372750      0.415803      0.415790   \n",
       "min        0.000000      0.000000      0.000000      0.000000      0.000000   \n",
       "25%        0.000000      0.000000      0.000000      0.000000      0.000000   \n",
       "50%        0.000000      0.000000      0.000000      0.000000      0.000000   \n",
       "75%        0.000000      0.000000      0.000000      0.000000      0.000000   \n",
       "max        1.000000      1.000000      1.000000      1.000000      1.000000   \n",
       "\n",
       "       ...        redcty       bluecty        pwhite        pblack  \\\n",
       "count  ...  49978.000000  49978.000000  48217.000000  48047.000000   \n",
       "mean   ...      0.510245      0.488715      0.819599      0.086710   \n",
       "std    ...      0.499900      0.499878      0.168561      0.135868   \n",
       "min    ...      0.000000      0.000000      0.009418      0.000000   \n",
       "25%    ...      0.000000      0.000000      0.755845      0.014729   \n",
       "50%    ...      1.000000      0.000000      0.872797      0.036554   \n",
       "75%    ...      1.000000      1.000000      0.938827      0.090882   \n",
       "max    ...      1.000000      1.000000      1.000000      0.989622   \n",
       "\n",
       "          page18_39     ave_hh_sz  median_hhincome        powner  \\\n",
       "count  48217.000000  48221.000000     48209.000000  48214.000000   \n",
       "mean       0.321694      2.429012     54815.700533      0.669418   \n",
       "std        0.103039      0.378115     22027.316665      0.193405   \n",
       "min        0.000000      0.000000      5000.000000      0.000000   \n",
       "25%        0.258311      2.210000     39181.000000      0.560222   \n",
       "50%        0.305534      2.440000     50673.000000      0.712296   \n",
       "75%        0.369132      2.660000     66005.000000      0.816798   \n",
       "max        0.997544      5.270000    200001.000000      1.000000   \n",
       "\n",
       "       psch_atlstba  pop_propurban  \n",
       "count  48215.000000   48217.000000  \n",
       "mean       0.391661       0.871968  \n",
       "std        0.186599       0.258654  \n",
       "min        0.000000       0.000000  \n",
       "25%        0.235647       0.884929  \n",
       "50%        0.373744       1.000000  \n",
       "75%        0.530036       1.000000  \n",
       "max        1.000000       1.000000  \n",
       "\n",
       "[8 rows x 48 columns]"
      ]
     },
     "execution_count": 5,
     "metadata": {},
     "output_type": "execute_result"
    }
   ],
   "source": [
    "karlan_df.describe()"
   ]
  },
  {
   "cell_type": "code",
   "execution_count": 6,
   "metadata": {},
   "outputs": [
    {
     "name": "stdout",
     "output_type": "stream",
     "text": [
      "<class 'pandas.core.frame.DataFrame'>\n",
      "RangeIndex: 50083 entries, 0 to 50082\n",
      "Data columns (total 51 columns):\n",
      " #   Column              Non-Null Count  Dtype   \n",
      "---  ------              --------------  -----   \n",
      " 0   treatment           50083 non-null  int8    \n",
      " 1   control             50083 non-null  int8    \n",
      " 2   ratio               50083 non-null  category\n",
      " 3   ratio2              50083 non-null  int8    \n",
      " 4   ratio3              50083 non-null  int8    \n",
      " 5   size                50083 non-null  category\n",
      " 6   size25              50083 non-null  int8    \n",
      " 7   size50              50083 non-null  int8    \n",
      " 8   size100             50083 non-null  int8    \n",
      " 9   sizeno              50083 non-null  int8    \n",
      " 10  ask                 50083 non-null  category\n",
      " 11  askd1               50083 non-null  int8    \n",
      " 12  askd2               50083 non-null  int8    \n",
      " 13  askd3               50083 non-null  int8    \n",
      " 14  ask1                50083 non-null  int16   \n",
      " 15  ask2                50083 non-null  int16   \n",
      " 16  ask3                50083 non-null  int16   \n",
      " 17  amount              50083 non-null  float32 \n",
      " 18  gave                50083 non-null  int8    \n",
      " 19  amountchange        50083 non-null  float32 \n",
      " 20  hpa                 50083 non-null  float32 \n",
      " 21  ltmedmra            50083 non-null  int8    \n",
      " 22  freq                50083 non-null  int16   \n",
      " 23  years               50082 non-null  float64 \n",
      " 24  year5               50083 non-null  int8    \n",
      " 25  mrm2                50082 non-null  float64 \n",
      " 26  dormant             50083 non-null  int8    \n",
      " 27  female              48972 non-null  float64 \n",
      " 28  couple              48935 non-null  float64 \n",
      " 29  state50one          50083 non-null  int8    \n",
      " 30  nonlit              49631 non-null  float64 \n",
      " 31  cases               49631 non-null  float64 \n",
      " 32  statecnt            50083 non-null  float32 \n",
      " 33  stateresponse       50083 non-null  float32 \n",
      " 34  stateresponset      50083 non-null  float32 \n",
      " 35  stateresponsec      50080 non-null  float32 \n",
      " 36  stateresponsetminc  50080 non-null  float32 \n",
      " 37  perbush             50048 non-null  float32 \n",
      " 38  close25             50048 non-null  float64 \n",
      " 39  red0                50048 non-null  float64 \n",
      " 40  blue0               50048 non-null  float64 \n",
      " 41  redcty              49978 non-null  float64 \n",
      " 42  bluecty             49978 non-null  float64 \n",
      " 43  pwhite              48217 non-null  float32 \n",
      " 44  pblack              48047 non-null  float32 \n",
      " 45  page18_39           48217 non-null  float32 \n",
      " 46  ave_hh_sz           48221 non-null  float32 \n",
      " 47  median_hhincome     48209 non-null  float64 \n",
      " 48  powner              48214 non-null  float32 \n",
      " 49  psch_atlstba        48215 non-null  float32 \n",
      " 50  pop_propurban       48217 non-null  float32 \n",
      "dtypes: category(3), float32(16), float64(12), int16(4), int8(16)\n",
      "memory usage: 8.9 MB\n"
     ]
    }
   ],
   "source": [
    "karlan_df.info()"
   ]
  },
  {
   "cell_type": "markdown",
   "metadata": {},
   "source": [
    "\n",
    "| Variable             | Description                                                         |\n",
    "|----------------------|---------------------------------------------------------------------|\n",
    "| `treatment`          | Treatment                                                           |\n",
    "| `control`            | Control                                                             |\n",
    "| `ratio`              | Match ratio                                                         |\n",
    "| `ratio2`             | 2:1 match ratio                                                     |\n",
    "| `ratio3`             | 3:1 match ratio                                                     |\n",
    "| `size`               | Match threshold                                                     |\n",
    "| `size25`             | \\$25,000 match threshold                                            |\n",
    "| `size50`             | \\$50,000 match threshold                                            |\n",
    "| `size100`            | \\$100,000 match threshold                                           |\n",
    "| `sizeno`             | Unstated match threshold                                            |\n",
    "| `ask`                | Suggested donation amount                                           |\n",
    "| `askd1`              | Suggested donation was highest previous contribution                |\n",
    "| `askd2`              | Suggested donation was 1.25 x highest previous contribution         |\n",
    "| `askd3`              | Suggested donation was 1.50 x highest previous contribution         |\n",
    "| `ask1`               | Highest previous contribution (for suggestion)                      |\n",
    "| `ask2`               | 1.25 x highest previous contribution (for suggestion)               |\n",
    "| `ask3`               | 1.50 x highest previous contribution (for suggestion)               |\n",
    "| `amount`             | Dollars given                                                       |\n",
    "| `gave`               | Gave anything                                                       |\n",
    "| `amountchange`       | Change in amount given                                              |\n",
    "| `hpa`                | Highest previous contribution                                       |\n",
    "| `ltmedmra`           | Small prior donor: last gift was less than median \\$35              |\n",
    "| `freq`               | Number of prior donations                                           |\n",
    "| `years`              | Number of years since initial donation                              |\n",
    "| `year5`              | At least 5 years since initial donation                             |\n",
    "| `mrm2`               | Number of months since last donation                                |\n",
    "| `dormant`            | Already donated in 2005                                             |\n",
    "| `female`             | Female                                                              |\n",
    "| `couple`             | Couple                                                              |\n",
    "| `state50one`         | State tag: 1 for one observation of each of 50 states; 0 otherwise  |\n",
    "| `nonlit`             | Nonlitigation                                                       |\n",
    "| `cases`              | Court cases from state in 2004-5 in which organization was involved |\n",
    "| `statecnt`           | Percent of sample from state                                        |\n",
    "| `stateresponse`      | Proportion of sample from the state who gave                        |\n",
    "| `stateresponset`     | Proportion of treated sample from the state who gave                |\n",
    "| `stateresponsec`     | Proportion of control sample from the state who gave                |\n",
    "| `stateresponsetminc` | stateresponset - stateresponsec                                     |\n",
    "| `perbush`            | State vote share for Bush                                           |\n",
    "| `close25`            | State vote share for Bush between 47.5% and 52.5%                   |\n",
    "| `red0`               | Red state                                                           |\n",
    "| `blue0`              | Blue state                                                          |\n",
    "| `redcty`             | Red county                                                          |\n",
    "| `bluecty`            | Blue county                                                         |\n",
    "| `pwhite`             | Proportion white within zip code                                    |\n",
    "| `pblack`             | Proportion black within zip code                                    |\n",
    "| `page18_39`          | Proportion age 18-39 within zip code                                |\n",
    "| `ave_hh_sz`          | Average household size within zip code                              |\n",
    "| `median_hhincome`    | Median household income within zip code                             |\n",
    "| `powner`             | Proportion house owner within zip code                              |\n",
    "| `psch_atlstba`       | Proportion who finished college within zip code                     |\n",
    "| `pop_propurban`      | Proportion of population urban within zip code                     "
   ]
  },
  {
   "cell_type": "markdown",
   "metadata": {},
   "source": [
    "_todo: test a few variables other than the key outcome variables (for example, test months since last donation) to see if the treatment and control groups are statistically significantly different at the 95% confidence level. Do each as a t-test and separately as a linear regression, and confirm you get the exact same results from both methods. When doing a t-test, use the formula in the class slides. When doing the linear regression, regress for example mrm2 on treatment and look at the estimated coefficient on the treatment variable. It might be helpful to compare parts of your analysis to Table 1 in the paper. Be sure to comment on your results (hint: why is Table 1 included in the paper)._"
   ]
  },
  {
   "cell_type": "code",
   "execution_count": 7,
   "metadata": {},
   "outputs": [],
   "source": [
    "karlan_control = karlan_df[karlan_df[\"control\"] == 1]"
   ]
  },
  {
   "cell_type": "code",
   "execution_count": 8,
   "metadata": {},
   "outputs": [],
   "source": [
    "karlan_treatment = karlan_df[karlan_df[\"treatment\"] == 1]"
   ]
  },
  {
   "cell_type": "code",
   "execution_count": 9,
   "metadata": {},
   "outputs": [],
   "source": [
    "mean_control_mrm2 = karlan_control[\"mrm2\"].mean()"
   ]
  },
  {
   "cell_type": "code",
   "execution_count": 10,
   "metadata": {},
   "outputs": [],
   "source": [
    "mean_treatment_mrm2 = karlan_treatment[\"mrm2\"].mean()"
   ]
  },
  {
   "cell_type": "code",
   "execution_count": 11,
   "metadata": {},
   "outputs": [
    {
     "name": "stdout",
     "output_type": "stream",
     "text": [
      "12.99814226643495\n"
     ]
    }
   ],
   "source": [
    "print(mean_control_mrm2)"
   ]
  },
  {
   "cell_type": "code",
   "execution_count": 12,
   "metadata": {},
   "outputs": [
    {
     "name": "stdout",
     "output_type": "stream",
     "text": [
      "13.011828117981734\n"
     ]
    }
   ],
   "source": [
    "print(mean_treatment_mrm2)"
   ]
  },
  {
   "cell_type": "code",
   "execution_count": 13,
   "metadata": {},
   "outputs": [],
   "source": [
    "diff_means = mean_treatment_mrm2 - mean_control_mrm2"
   ]
  },
  {
   "cell_type": "code",
   "execution_count": 14,
   "metadata": {},
   "outputs": [],
   "source": [
    "std_treatment_mrm2 = karlan_treatment[\"mrm2\"].std()\n",
    "std_control_mrm2 = karlan_control[\"mrm2\"].std()"
   ]
  },
  {
   "cell_type": "code",
   "execution_count": 22,
   "metadata": {},
   "outputs": [
    {
     "name": "stdout",
     "output_type": "stream",
     "text": [
      "33396\n"
     ]
    }
   ],
   "source": [
    "n_treatment = len(karlan_treatment)\n",
    "n_control = len(karlan_control)\n",
    "\n",
    "print(n_treatment)\n"
   ]
  },
  {
   "cell_type": "code",
   "execution_count": 23,
   "metadata": {},
   "outputs": [
    {
     "name": "stdout",
     "output_type": "stream",
     "text": [
      "16687\n"
     ]
    }
   ],
   "source": [
    "print(n_control)"
   ]
  },
  {
   "cell_type": "code",
   "execution_count": 16,
   "metadata": {},
   "outputs": [],
   "source": [
    "t_stat = diff_means / np.sqrt((std_treatment_mrm2**2/n_treatment) + (std_control_mrm2**2/n_control))"
   ]
  },
  {
   "cell_type": "code",
   "execution_count": 17,
   "metadata": {},
   "outputs": [
    {
     "name": "stdout",
     "output_type": "stream",
     "text": [
      "0.11953214935938232\n"
     ]
    }
   ],
   "source": [
    "print(t_stat)"
   ]
  },
  {
   "cell_type": "code",
   "execution_count": 18,
   "metadata": {},
   "outputs": [],
   "source": [
    "def t_test_calc(data, treatment_col, control_col, outcome_col):\n",
    "    treatment = data[data[treatment_col] == 1]\n",
    "    control = data[data[control_col] == 1]\n",
    "    mean_treatment = treatment[outcome_col].mean()\n",
    "    mean_control = control[outcome_col].mean()\n",
    "    diff_means = mean_treatment - mean_control\n",
    "    std_treatment = treatment[outcome_col].std()\n",
    "    std_control = control[outcome_col].std()\n",
    "    n_treatment = len(treatment)\n",
    "    n_control = len(control)\n",
    "    t_stat = diff_means / np.sqrt((std_treatment**2/n_treatment) + (std_control**2/n_control))\n",
    "    return t_stat"
   ]
  },
  {
   "cell_type": "code",
   "execution_count": 19,
   "metadata": {},
   "outputs": [
    {
     "data": {
      "text/plain": [
       "0.11953214935938232"
      ]
     },
     "execution_count": 19,
     "metadata": {},
     "output_type": "execute_result"
    }
   ],
   "source": [
    "t_test_calc(karlan_df, \"treatment\", \"control\", \"mrm2\")"
   ]
  },
  {
   "cell_type": "code",
   "execution_count": 21,
   "metadata": {},
   "outputs": [
    {
     "data": {
      "text/plain": [
       "1.9182617883567805"
      ]
     },
     "execution_count": 21,
     "metadata": {},
     "output_type": "execute_result"
    }
   ],
   "source": [
    "t_test_calc(karlan_df, \"treatment\", \"control\", \"amount\")"
   ]
  },
  {
   "cell_type": "code",
   "execution_count": 24,
   "metadata": {},
   "outputs": [],
   "source": [
    "import pyrsm as rsm "
   ]
  },
  {
   "cell_type": "code",
   "execution_count": 30,
   "metadata": {},
   "outputs": [
    {
     "ename": "PatsyError",
     "evalue": "Number of rows mismatch between data argument and ['treatment'] (50083 versus 1)\n    ['treatment'] ~ mrm2\n    ^^^^^^^^^^^^^",
     "output_type": "error",
     "traceback": [
      "\u001b[0;31m---------------------------------------------------------------------------\u001b[0m",
      "\u001b[0;31mPatsyError\u001b[0m                                Traceback (most recent call last)",
      "Cell \u001b[0;32mIn[30], line 1\u001b[0m\n\u001b[0;32m----> 1\u001b[0m mrm_linear \u001b[38;5;241m=\u001b[39m \u001b[43mrsm\u001b[49m\u001b[38;5;241;43m.\u001b[39;49m\u001b[43mmodel\u001b[49m\u001b[38;5;241;43m.\u001b[39;49m\u001b[43mregress\u001b[49m\u001b[43m(\u001b[49m\n\u001b[1;32m      2\u001b[0m \u001b[43m    \u001b[49m\u001b[43mdata\u001b[49m\u001b[43m \u001b[49m\u001b[38;5;241;43m=\u001b[39;49m\u001b[43m \u001b[49m\u001b[43m{\u001b[49m\u001b[38;5;124;43m\"\u001b[39;49m\u001b[38;5;124;43mkarlan_DF\u001b[39;49m\u001b[38;5;124;43m\"\u001b[39;49m\u001b[43m:\u001b[49m\u001b[43m \u001b[49m\u001b[43mkarlan_df\u001b[49m\u001b[43m}\u001b[49m\u001b[43m,\u001b[49m\n\u001b[1;32m      3\u001b[0m \u001b[43m    \u001b[49m\u001b[43mevar\u001b[49m\u001b[43m \u001b[49m\u001b[38;5;241;43m=\u001b[39;49m\u001b[43m \u001b[49m\u001b[38;5;124;43m\"\u001b[39;49m\u001b[38;5;124;43mmrm2\u001b[39;49m\u001b[38;5;124;43m\"\u001b[39;49m\u001b[43m,\u001b[49m\n\u001b[1;32m      4\u001b[0m \u001b[43m    \u001b[49m\u001b[43mrvar\u001b[49m\u001b[43m \u001b[49m\u001b[38;5;241;43m=\u001b[39;49m\u001b[43m \u001b[49m\u001b[43m[\u001b[49m\u001b[38;5;124;43m\"\u001b[39;49m\u001b[38;5;124;43mtreatment\u001b[39;49m\u001b[38;5;124;43m\"\u001b[39;49m\u001b[43m]\u001b[49m\u001b[43m)\u001b[49m\n",
      "File \u001b[0;32m/Library/Frameworks/Python.framework/Versions/3.11/lib/python3.11/site-packages/pyrsm/model/regress.py:70\u001b[0m, in \u001b[0;36mregress.__init__\u001b[0;34m(self, data, rvar, evar, ivar, form)\u001b[0m\n\u001b[1;32m     68\u001b[0m     \u001b[38;5;28;01mif\u001b[39;00m \u001b[38;5;28mself\u001b[39m\u001b[38;5;241m.\u001b[39mivar:\n\u001b[1;32m     69\u001b[0m         \u001b[38;5;28mself\u001b[39m\u001b[38;5;241m.\u001b[39mform \u001b[38;5;241m+\u001b[39m\u001b[38;5;241m=\u001b[39m \u001b[38;5;124mf\u001b[39m\u001b[38;5;124m\"\u001b[39m\u001b[38;5;124m + \u001b[39m\u001b[38;5;132;01m{\u001b[39;00m\u001b[38;5;124m'\u001b[39m\u001b[38;5;124m + \u001b[39m\u001b[38;5;124m'\u001b[39m\u001b[38;5;241m.\u001b[39mjoin(\u001b[38;5;28mself\u001b[39m\u001b[38;5;241m.\u001b[39mivar)\u001b[38;5;132;01m}\u001b[39;00m\u001b[38;5;124m\"\u001b[39m\n\u001b[0;32m---> 70\u001b[0m     \u001b[38;5;28mself\u001b[39m\u001b[38;5;241m.\u001b[39mfitted \u001b[38;5;241m=\u001b[39m \u001b[43msmf\u001b[49m\u001b[38;5;241;43m.\u001b[39;49m\u001b[43mols\u001b[49m\u001b[43m(\u001b[49m\u001b[38;5;28;43mself\u001b[39;49m\u001b[38;5;241;43m.\u001b[39;49m\u001b[43mform\u001b[49m\u001b[43m,\u001b[49m\u001b[43m \u001b[49m\u001b[43mdata\u001b[49m\u001b[38;5;241;43m=\u001b[39;49m\u001b[38;5;28;43mself\u001b[39;49m\u001b[38;5;241;43m.\u001b[39;49m\u001b[43mdata\u001b[49m\u001b[43m)\u001b[49m\u001b[38;5;241m.\u001b[39mfit()\n\u001b[1;32m     72\u001b[0m df \u001b[38;5;241m=\u001b[39m pd\u001b[38;5;241m.\u001b[39mDataFrame(\u001b[38;5;28mself\u001b[39m\u001b[38;5;241m.\u001b[39mfitted\u001b[38;5;241m.\u001b[39mparams, columns\u001b[38;5;241m=\u001b[39m[\u001b[38;5;124m\"\u001b[39m\u001b[38;5;124mcoefficient\u001b[39m\u001b[38;5;124m\"\u001b[39m])\u001b[38;5;241m.\u001b[39mdropna()\n\u001b[1;32m     73\u001b[0m df[\u001b[38;5;124m\"\u001b[39m\u001b[38;5;124mstd.error\u001b[39m\u001b[38;5;124m\"\u001b[39m] \u001b[38;5;241m=\u001b[39m \u001b[38;5;28mself\u001b[39m\u001b[38;5;241m.\u001b[39mfitted\u001b[38;5;241m.\u001b[39mparams \u001b[38;5;241m/\u001b[39m \u001b[38;5;28mself\u001b[39m\u001b[38;5;241m.\u001b[39mfitted\u001b[38;5;241m.\u001b[39mtvalues\n",
      "File \u001b[0;32m/Library/Frameworks/Python.framework/Versions/3.11/lib/python3.11/site-packages/statsmodels/base/model.py:203\u001b[0m, in \u001b[0;36mModel.from_formula\u001b[0;34m(cls, formula, data, subset, drop_cols, *args, **kwargs)\u001b[0m\n\u001b[1;32m    200\u001b[0m \u001b[38;5;28;01mif\u001b[39;00m missing \u001b[38;5;241m==\u001b[39m \u001b[38;5;124m'\u001b[39m\u001b[38;5;124mnone\u001b[39m\u001b[38;5;124m'\u001b[39m:  \u001b[38;5;66;03m# with patsy it's drop or raise. let's raise.\u001b[39;00m\n\u001b[1;32m    201\u001b[0m     missing \u001b[38;5;241m=\u001b[39m \u001b[38;5;124m'\u001b[39m\u001b[38;5;124mraise\u001b[39m\u001b[38;5;124m'\u001b[39m\n\u001b[0;32m--> 203\u001b[0m tmp \u001b[38;5;241m=\u001b[39m \u001b[43mhandle_formula_data\u001b[49m\u001b[43m(\u001b[49m\u001b[43mdata\u001b[49m\u001b[43m,\u001b[49m\u001b[43m \u001b[49m\u001b[38;5;28;43;01mNone\u001b[39;49;00m\u001b[43m,\u001b[49m\u001b[43m \u001b[49m\u001b[43mformula\u001b[49m\u001b[43m,\u001b[49m\u001b[43m \u001b[49m\u001b[43mdepth\u001b[49m\u001b[38;5;241;43m=\u001b[39;49m\u001b[43meval_env\u001b[49m\u001b[43m,\u001b[49m\n\u001b[1;32m    204\u001b[0m \u001b[43m                          \u001b[49m\u001b[43mmissing\u001b[49m\u001b[38;5;241;43m=\u001b[39;49m\u001b[43mmissing\u001b[49m\u001b[43m)\u001b[49m\n\u001b[1;32m    205\u001b[0m ((endog, exog), missing_idx, design_info) \u001b[38;5;241m=\u001b[39m tmp\n\u001b[1;32m    206\u001b[0m max_endog \u001b[38;5;241m=\u001b[39m \u001b[38;5;28mcls\u001b[39m\u001b[38;5;241m.\u001b[39m_formula_max_endog\n",
      "File \u001b[0;32m/Library/Frameworks/Python.framework/Versions/3.11/lib/python3.11/site-packages/statsmodels/formula/formulatools.py:63\u001b[0m, in \u001b[0;36mhandle_formula_data\u001b[0;34m(Y, X, formula, depth, missing)\u001b[0m\n\u001b[1;32m     61\u001b[0m \u001b[38;5;28;01melse\u001b[39;00m:\n\u001b[1;32m     62\u001b[0m     \u001b[38;5;28;01mif\u001b[39;00m data_util\u001b[38;5;241m.\u001b[39m_is_using_pandas(Y, \u001b[38;5;28;01mNone\u001b[39;00m):\n\u001b[0;32m---> 63\u001b[0m         result \u001b[38;5;241m=\u001b[39m \u001b[43mdmatrices\u001b[49m\u001b[43m(\u001b[49m\u001b[43mformula\u001b[49m\u001b[43m,\u001b[49m\u001b[43m \u001b[49m\u001b[43mY\u001b[49m\u001b[43m,\u001b[49m\u001b[43m \u001b[49m\u001b[43mdepth\u001b[49m\u001b[43m,\u001b[49m\u001b[43m \u001b[49m\u001b[43mreturn_type\u001b[49m\u001b[38;5;241;43m=\u001b[39;49m\u001b[38;5;124;43m'\u001b[39;49m\u001b[38;5;124;43mdataframe\u001b[39;49m\u001b[38;5;124;43m'\u001b[39;49m\u001b[43m,\u001b[49m\n\u001b[1;32m     64\u001b[0m \u001b[43m                           \u001b[49m\u001b[43mNA_action\u001b[49m\u001b[38;5;241;43m=\u001b[39;49m\u001b[43mna_action\u001b[49m\u001b[43m)\u001b[49m\n\u001b[1;32m     65\u001b[0m     \u001b[38;5;28;01melse\u001b[39;00m:\n\u001b[1;32m     66\u001b[0m         result \u001b[38;5;241m=\u001b[39m dmatrices(formula, Y, depth, return_type\u001b[38;5;241m=\u001b[39m\u001b[38;5;124m'\u001b[39m\u001b[38;5;124mdataframe\u001b[39m\u001b[38;5;124m'\u001b[39m,\n\u001b[1;32m     67\u001b[0m                            NA_action\u001b[38;5;241m=\u001b[39mna_action)\n",
      "File \u001b[0;32m/Library/Frameworks/Python.framework/Versions/3.11/lib/python3.11/site-packages/patsy/highlevel.py:309\u001b[0m, in \u001b[0;36mdmatrices\u001b[0;34m(formula_like, data, eval_env, NA_action, return_type)\u001b[0m\n\u001b[1;32m    299\u001b[0m \u001b[38;5;250m\u001b[39m\u001b[38;5;124;03m\"\"\"Construct two design matrices given a formula_like and data.\u001b[39;00m\n\u001b[1;32m    300\u001b[0m \n\u001b[1;32m    301\u001b[0m \u001b[38;5;124;03mThis function is identical to :func:`dmatrix`, except that it requires\u001b[39;00m\n\u001b[0;32m   (...)\u001b[0m\n\u001b[1;32m    306\u001b[0m \u001b[38;5;124;03mSee :func:`dmatrix` for details.\u001b[39;00m\n\u001b[1;32m    307\u001b[0m \u001b[38;5;124;03m\"\"\"\u001b[39;00m\n\u001b[1;32m    308\u001b[0m eval_env \u001b[38;5;241m=\u001b[39m EvalEnvironment\u001b[38;5;241m.\u001b[39mcapture(eval_env, reference\u001b[38;5;241m=\u001b[39m\u001b[38;5;241m1\u001b[39m)\n\u001b[0;32m--> 309\u001b[0m (lhs, rhs) \u001b[38;5;241m=\u001b[39m \u001b[43m_do_highlevel_design\u001b[49m\u001b[43m(\u001b[49m\u001b[43mformula_like\u001b[49m\u001b[43m,\u001b[49m\u001b[43m \u001b[49m\u001b[43mdata\u001b[49m\u001b[43m,\u001b[49m\u001b[43m \u001b[49m\u001b[43meval_env\u001b[49m\u001b[43m,\u001b[49m\n\u001b[1;32m    310\u001b[0m \u001b[43m                                  \u001b[49m\u001b[43mNA_action\u001b[49m\u001b[43m,\u001b[49m\u001b[43m \u001b[49m\u001b[43mreturn_type\u001b[49m\u001b[43m)\u001b[49m\n\u001b[1;32m    311\u001b[0m \u001b[38;5;28;01mif\u001b[39;00m lhs\u001b[38;5;241m.\u001b[39mshape[\u001b[38;5;241m1\u001b[39m] \u001b[38;5;241m==\u001b[39m \u001b[38;5;241m0\u001b[39m:\n\u001b[1;32m    312\u001b[0m     \u001b[38;5;28;01mraise\u001b[39;00m PatsyError(\u001b[38;5;124m\"\u001b[39m\u001b[38;5;124mmodel is missing required outcome variables\u001b[39m\u001b[38;5;124m\"\u001b[39m)\n",
      "File \u001b[0;32m/Library/Frameworks/Python.framework/Versions/3.11/lib/python3.11/site-packages/patsy/highlevel.py:167\u001b[0m, in \u001b[0;36m_do_highlevel_design\u001b[0;34m(formula_like, data, eval_env, NA_action, return_type)\u001b[0m\n\u001b[1;32m    164\u001b[0m design_infos \u001b[38;5;241m=\u001b[39m _try_incr_builders(formula_like, data_iter_maker, eval_env,\n\u001b[1;32m    165\u001b[0m                                   NA_action)\n\u001b[1;32m    166\u001b[0m \u001b[38;5;28;01mif\u001b[39;00m design_infos \u001b[38;5;129;01mis\u001b[39;00m \u001b[38;5;129;01mnot\u001b[39;00m \u001b[38;5;28;01mNone\u001b[39;00m:\n\u001b[0;32m--> 167\u001b[0m     \u001b[38;5;28;01mreturn\u001b[39;00m \u001b[43mbuild_design_matrices\u001b[49m\u001b[43m(\u001b[49m\u001b[43mdesign_infos\u001b[49m\u001b[43m,\u001b[49m\u001b[43m \u001b[49m\u001b[43mdata\u001b[49m\u001b[43m,\u001b[49m\n\u001b[1;32m    168\u001b[0m \u001b[43m                                 \u001b[49m\u001b[43mNA_action\u001b[49m\u001b[38;5;241;43m=\u001b[39;49m\u001b[43mNA_action\u001b[49m\u001b[43m,\u001b[49m\n\u001b[1;32m    169\u001b[0m \u001b[43m                                 \u001b[49m\u001b[43mreturn_type\u001b[49m\u001b[38;5;241;43m=\u001b[39;49m\u001b[43mreturn_type\u001b[49m\u001b[43m)\u001b[49m\n\u001b[1;32m    170\u001b[0m \u001b[38;5;28;01melse\u001b[39;00m:\n\u001b[1;32m    171\u001b[0m     \u001b[38;5;66;03m# No builders, but maybe we can still get matrices\u001b[39;00m\n\u001b[1;32m    172\u001b[0m     \u001b[38;5;28;01mif\u001b[39;00m \u001b[38;5;28misinstance\u001b[39m(formula_like, \u001b[38;5;28mtuple\u001b[39m):\n",
      "File \u001b[0;32m/Library/Frameworks/Python.framework/Versions/3.11/lib/python3.11/site-packages/patsy/build.py:893\u001b[0m, in \u001b[0;36mbuild_design_matrices\u001b[0;34m(design_infos, data, NA_action, return_type, dtype)\u001b[0m\n\u001b[1;32m    891\u001b[0m name \u001b[38;5;241m=\u001b[39m factor_info\u001b[38;5;241m.\u001b[39mfactor\u001b[38;5;241m.\u001b[39mname()\n\u001b[1;32m    892\u001b[0m origin \u001b[38;5;241m=\u001b[39m factor_info\u001b[38;5;241m.\u001b[39mfactor\u001b[38;5;241m.\u001b[39morigin\n\u001b[0;32m--> 893\u001b[0m \u001b[43mrows_checker\u001b[49m\u001b[38;5;241;43m.\u001b[39;49m\u001b[43mcheck\u001b[49m\u001b[43m(\u001b[49m\u001b[43mvalue\u001b[49m\u001b[38;5;241;43m.\u001b[39;49m\u001b[43mshape\u001b[49m\u001b[43m[\u001b[49m\u001b[38;5;241;43m0\u001b[39;49m\u001b[43m]\u001b[49m\u001b[43m,\u001b[49m\u001b[43m \u001b[49m\u001b[43mname\u001b[49m\u001b[43m,\u001b[49m\u001b[43m \u001b[49m\u001b[43morigin\u001b[49m\u001b[43m)\u001b[49m\n\u001b[1;32m    894\u001b[0m \u001b[38;5;28;01mif\u001b[39;00m (have_pandas\n\u001b[1;32m    895\u001b[0m     \u001b[38;5;129;01mand\u001b[39;00m \u001b[38;5;28misinstance\u001b[39m(value, (pandas\u001b[38;5;241m.\u001b[39mSeries, pandas\u001b[38;5;241m.\u001b[39mDataFrame))):\n\u001b[1;32m    896\u001b[0m     index_checker\u001b[38;5;241m.\u001b[39mcheck(value\u001b[38;5;241m.\u001b[39mindex, name, origin)\n",
      "File \u001b[0;32m/Library/Frameworks/Python.framework/Versions/3.11/lib/python3.11/site-packages/patsy/build.py:795\u001b[0m, in \u001b[0;36m_CheckMatch.check\u001b[0;34m(self, seen_value, desc, origin)\u001b[0m\n\u001b[1;32m    792\u001b[0m     msg \u001b[38;5;241m+\u001b[39m\u001b[38;5;241m=\u001b[39m \u001b[38;5;124m\"\u001b[39m\u001b[38;5;124m (\u001b[39m\u001b[38;5;132;01m%r\u001b[39;00m\u001b[38;5;124m versus \u001b[39m\u001b[38;5;132;01m%r\u001b[39;00m\u001b[38;5;124m)\u001b[39m\u001b[38;5;124m\"\u001b[39m \u001b[38;5;241m%\u001b[39m (\u001b[38;5;28mself\u001b[39m\u001b[38;5;241m.\u001b[39mvalue, seen_value)\n\u001b[1;32m    793\u001b[0m \u001b[38;5;66;03m# XX FIXME: this is a case where having discontiguous Origins\u001b[39;00m\n\u001b[1;32m    794\u001b[0m \u001b[38;5;66;03m# would be useful...\u001b[39;00m\n\u001b[0;32m--> 795\u001b[0m \u001b[38;5;28;01mraise\u001b[39;00m PatsyError(msg, origin)\n",
      "\u001b[0;31mPatsyError\u001b[0m: Number of rows mismatch between data argument and ['treatment'] (50083 versus 1)\n    ['treatment'] ~ mrm2\n    ^^^^^^^^^^^^^"
     ]
    }
   ],
   "source": [
    "mrm_linear = rsm.model.regress(\n",
    "    data = {\"karlan_DF\": karlan_df},\n",
    "    evar = \"mrm2\",\n",
    "    rvar = [\"treatment\"])"
   ]
  },
  {
   "cell_type": "markdown",
   "metadata": {},
   "source": [
    "_todo: make a barplot with two bars. Each bar is the proportion of people who donated. One bar for treatment and one bar for control._\n",
    "\n",
    "_todo: run a t-test between the treatment and control groups on the binary outcome of whether any charitable donation was made. Also run a bivariate linear regression that demonstrates the same finding. (It may help to confirm your calculations match Table 2a Panel A.) Report your statistical results and interpret them in the context of the experiment (e.g., if you found a difference with a small p-value or that was statistically significant at some threshold, what have you learned about human behavior? Use mostly English words, not numbers or stats, to explain your finding.)_\n",
    "\n",
    "_todo: run a probit regression where the outcome variable is whether any charitable donation was made and the explanatory variable is assignment to treatment or control. Confirm that your results replicate Table 3 column 1 in the paper._\n"
   ]
  },
  {
   "cell_type": "code",
   "execution_count": 53,
   "metadata": {},
   "outputs": [],
   "source": [
    "import matplotlib.pyplot as plt\n",
    "from matplotlib import rcParams"
   ]
  },
  {
   "cell_type": "code",
   "execution_count": 54,
   "metadata": {},
   "outputs": [],
   "source": [
    "karlan_grouped = karlan_df.groupby([\"treatment\", \"control\"])[\"gave\"].sum()"
   ]
  },
  {
   "cell_type": "code",
   "execution_count": 63,
   "metadata": {},
   "outputs": [
    {
     "data": {
      "text/plain": [
       "gave\n",
       "298    1\n",
       "736    1\n",
       "Name: count, dtype: int64"
      ]
     },
     "execution_count": 63,
     "metadata": {},
     "output_type": "execute_result"
    }
   ],
   "source": [
    "karlan_grouped.value_counts()"
   ]
  },
  {
   "cell_type": "code",
   "execution_count": 55,
   "metadata": {},
   "outputs": [
    {
     "data": {
      "image/png": "[encoded data removed]",
      "text/plain": [
       "<Figure size 640x480 with 1 Axes>"
      ]
     },
     "metadata": {},
     "output_type": "display_data"
    }
   ],
   "source": [
    "ax = karlan_grouped.plot(kind='bar', color = [\"purple\", \"orange\"])\n",
    "\n",
    "rcParams['font.family'] = 'serif'  # Change 'serif' to the desired font family\n",
    "rcParams['font.serif'] = ['Avenir'] \n",
    "\n",
    "plt.xlabel(\"Treatment vs. Control group\")\n",
    "plt.ylabel('Number of people who Donated Money')\n",
    "plt.title('Number of people who gave in treatment vs. control group')\n",
    "\n",
    "group_labels = ['Treatment', 'Control']\n",
    "ax.set_xticklabels(group_labels, rotation = 0)\n",
    "\n",
    "for i, v in enumerate(karlan_grouped):\n",
    "    ax.text(i, v + 0.1, str(v), ha='center', va='bottom')\n",
    "plt.show()\n"
   ]
  },
  {
   "cell_type": "markdown",
   "metadata": {},
   "source": [
    "#_todo: make a barplot with two bars. Each bar is the proportion of people who donated. One bar for treatment and one bar for control._\n",
    "\n",
    "#_todo: run a t-test between the treatment and control groups on the binary outcome of whether any charitable donation was made. Also run a bivariate linear regression that demonstrates the same finding. (It may help to confirm your calculations match Table 2a Panel A.) Report your statistical results and interpret them in the context of the experiment (e.g., if you found a difference with a small p-value or that was statistically significant at some threshold, what have you learned about human behavior? Use mostly English words, not numbers or stats, to explain your finding.)_\n",
    "\n",
    "#_todo: run a probit regression where the outcome variable is whether any charitable donation was made and the explanatory variable is assignment to treatment or control. Confirm that your results replicate Table 3 column 1 in the paper._\n"
   ]
  },
  {
   "cell_type": "code",
   "execution_count": 60,
   "metadata": {},
   "outputs": [],
   "source": [
    "from scipy.stats import ttest_ind\n",
    "import scipy.stats as stats"
   ]
  },
  {
   "cell_type": "code",
   "execution_count": 62,
   "metadata": {},
   "outputs": [
    {
     "name": "stdout",
     "output_type": "stream",
     "text": [
      "T-statistic: 3.101361000543946\n",
      "p-value: 0.0019274025949016988\n"
     ]
    }
   ],
   "source": [
    "t_statistic, p_value = stats.ttest_ind(karlan_treatment[\"gave\"], karlan_control[\"gave\"])\n",
    "\n",
    "print(\"T-statistic:\", t_statistic)\n",
    "print(\"p-value:\", p_value)"
   ]
  },
  {
   "cell_type": "code",
   "execution_count": 1,
   "metadata": {},
   "outputs": [
    {
     "name": "stdout",
     "output_type": "stream",
     "text": [
      "/usr/local/bin/python3\n"
     ]
    }
   ],
   "source": [
    "import sys\n",
    "print(sys.executable)"
   ]
  },
  {
   "cell_type": "code",
   "execution_count": null,
   "metadata": {},
   "outputs": [],
   "source": []
  }
 ],
 "metadata": {
  "kernelspec": {
   "display_name": "Python 3",
   "language": "python",
   "name": "python3"
  },
  "language_info": {
   "codemirror_mode": {
    "name": "ipython",
    "version": 3
   },
   "file_extension": ".py",
   "mimetype": "text/x-python",
   "name": "python",
   "nbconvert_exporter": "python",
   "pygments_lexer": "ipython3",
   "version": "3.11.5"
  }
 },
 "nbformat": 4,
 "nbformat_minor": 2
}
